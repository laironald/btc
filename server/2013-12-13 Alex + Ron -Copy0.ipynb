{
 "metadata": {
  "name": ""
 },
 "nbformat": 3,
 "nbformat_minor": 0,
 "worksheets": [
  {
   "cells": [
    {
     "cell_type": "code",
     "collapsed": false,
     "input": [
      "import time\n",
      "import numpy\n",
      "output=zeros([2000,9])\n",
      "\n",
      "#filename = \"btc/mtgoxUSD_last2m.csv\"\n",
      "filename = \"btc/mtgoxUSD.csv\"\n",
      "mtgox = open(filename, \"rb\")\n",
      "blank_array = zeros([100000,2])\n",
      "\n",
      "def timeStand(timestamp, fmt=\"%Y%m%d\"):\n",
      "    return time.strftime(fmt, time.localtime(timestamp))\n",
      "\n",
      "#default values\n",
      "ptime = None\n",
      "j =0\n",
      "\n",
      "for i,data in enumerate(mtgox):\n",
      "  \n",
      "    ctime, mark, volume = data[:-1].split(\",\")\n",
      "    ctime, mark, volume = (int(ctime), float(mark), float(volume))\n",
      "    ntime = timeStand(ctime)    \n",
      "\n",
      "    if ntime != ptime:\n",
      "        if ptime:\n",
      "           \n",
      "            output[j,:] = array([ptime, ctr, rows[0,0], rows[0:ctr,0].max(), rows[0:ctr,0].min(),\n",
      "                                 rows[ctr-1,0], rows[0:ctr,1].sum(),\n",
      "                                 numpy.average(rows[0:ctr:,0], weights=rows[0:ctr:,1]),\n",
      "                                 rows[0:ctr,:1].std()])\n",
      "            #Time(0), Observations(1), Open(2), High(3), Low(4), Close(5), Volume(6), VWAP(7), STD(8) \n",
      "            #Each mark is a day\n",
      "            \n",
      "            j = j + 1\n",
      "        # resetting values\n",
      "        ptime = ntime\n",
      "        ctr = 0\n",
      "  \n",
      "    rows[ctr,:] = [mark, volume]\n",
      "  \n",
      "        \n",
      "    ctr = ctr + 1\n",
      "\n",
      "\n",
      "#print ptime, len(rows), totVol\n"
     ],
     "language": "python",
     "metadata": {},
     "outputs": [],
     "prompt_number": 60
    },
    {
     "cell_type": "code",
     "collapsed": false,
     "input": [
      "#Save daily file for later viewing\n",
      "output = output[0:j-1,:]\n",
      "out = open(\"ohlc.csv\", \"wb\")\n",
      "numpy.savetxt(out, output, fmt=\"%.4f\", delimiter=\",\")\n",
      "out.close()"
     ],
     "language": "python",
     "metadata": {},
     "outputs": [],
     "prompt_number": 61
    },
    {
     "cell_type": "code",
     "collapsed": false,
     "input": [
      "import numpy as np\n",
      "import pandas as pd\n",
      "\n",
      "#load a date range\n",
      "inp = open(\"ohlc.csv\", \"rb\")\n",
      "ohlc = numpy.loadtxt(inp, delimiter=\",\")\n",
      "first_date = '%(d)i' %{\"d\": ohlc[0,0]}\n",
      "num_dates = len(ohlc)\n",
      "#dates = pd.date_range(first_date, periods=numdates)\n",
      "#dates\n",
      "\n"
     ],
     "language": "python",
     "metadata": {},
     "outputs": [],
     "prompt_number": 82
    },
    {
     "cell_type": "code",
     "collapsed": false,
     "input": [
      "#calculate daily returns\n",
      "returns = numpy.diff(log(ohlc[:,7]))\n",
      "\n",
      "#build simple testing function\n",
      "def backtest(data, threshold, returns)\n",
      "    yes = {\"returns\":returns[data >= threshold].mean(),\n",
      "           \"vol\":returns[data >= threshold].std()}\n",
      "    no = {\"returns\":returns[data < threshold].mean(),\n",
      "          \"vol\":returns[data < threshold].std() }\n",
      "    [yes, no]\n",
      "\n",
      "#Simple example: What happens if you only hold bitcoin when the previous day return was positive?\n",
      "data = ohlc[:,5]\n",
      "print(len(data))\n",
      "data[1:] = data[0:len(data)-1]\n",
      "data[0] = 0\n",
      "threshold = 0\n",
      "\n",
      "backtest(data, threshold, returns)\n",
      "print(data)\n",
      "    \n",
      "    "
     ],
     "language": "python",
     "metadata": {},
     "outputs": [],
     "prompt_number": 86
    },
    {
     "cell_type": "code",
     "collapsed": false,
     "input": [
      "alex = [1,2,3,4]"
     ],
     "language": "python",
     "metadata": {},
     "outputs": [],
     "prompt_number": 14
    },
    {
     "cell_type": "code",
     "collapsed": false,
     "input": [
      "filedump = open(\"alex.pickle\", \"wb\")\n",
      "pickle.dump(alex, filedump)\n",
      "filedump.close()"
     ],
     "language": "python",
     "metadata": {},
     "outputs": [],
     "prompt_number": 15
    },
    {
     "cell_type": "code",
     "collapsed": false,
     "input": [
      "pickle.load(open(\"alex.pickle\", \"rb\"))"
     ],
     "language": "python",
     "metadata": {},
     "outputs": [
      {
       "metadata": {},
       "output_type": "pyout",
       "prompt_number": 8,
       "text": [
        "[1, 2, 3, 4]"
       ]
      }
     ],
     "prompt_number": 8
    },
    {
     "cell_type": "code",
     "collapsed": false,
     "input": [
      "import os\n",
      "\n",
      "if os.path.isfile(\"alex.pickle\"):\n",
      "    alex = pickle.load(open(\"alex.pickle\", \"rb\"))\n",
      "else:\n",
      "    alex = []\n",
      "\n",
      "alex"
     ],
     "language": "python",
     "metadata": {},
     "outputs": [
      {
       "metadata": {},
       "output_type": "pyout",
       "prompt_number": 16,
       "text": [
        "[1, 2, 3, 4]"
       ]
      }
     ],
     "prompt_number": 16
    },
    {
     "cell_type": "code",
     "collapsed": false,
     "input": [
      "print \"{time:10} {obs:6} {open:10.4f} {high:10.4f} {low:10.4f} {close:10.4f} {volume:15.4f} {vwap:15.4f} {std:15.4f}\".format(\n",
      "                time=ptime, obs=ctr, open=rows[0,0], high=rows[0:ctr,0].max(), \n",
      "                low = rows[0:ctr:,0].min(), close = rows[ctr-1,0],\n",
      "                volume=rows[0:ctr:,1].sum(),\n",
      "                vwap=numpy.average(rows[0:ctr:,0], weights=rows[0:ctr:,1]), \n",
      "                std=rows[0:ctr,:1].std())"
     ],
     "language": "python",
     "metadata": {},
     "outputs": [
      {
       "metadata": {},
       "output_type": "pyout",
       "prompt_number": 12,
       "text": [
        "[1, 2, 3, 4]"
       ]
      }
     ],
     "prompt_number": 12
    },
    {
     "cell_type": "code",
     "collapsed": false,
     "input": [
      "import numpy\n",
      "rows = array([[0,1,2], [3,4,5]])\n",
      "rows[len(rows)-1,0]"
     ],
     "language": "python",
     "metadata": {},
     "outputs": [
      {
       "metadata": {},
       "output_type": "pyout",
       "prompt_number": 19,
       "text": [
        "3"
       ]
      }
     ],
     "prompt_number": 19
    }
   ],
   "metadata": {}
  }
 ]
}