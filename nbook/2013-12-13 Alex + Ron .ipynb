{
 "metadata": {
  "name": ""
 },
 "nbformat": 3,
 "nbformat_minor": 0,
 "worksheets": [
  {
   "cells": [
    {
     "cell_type": "code",
     "collapsed": false,
     "input": [
      "import time\n",
      "import numpy\n",
      "import matplotlib.pyplot as plt\n",
      "\n",
      "filename = \"/home/ubuntu/btc/mtgoxUSD_last2m.csv\"\n",
      "#filename = \"btc/mtgoxUSD_last100k.csv\"\n",
      "mtgox = open(filename, \"rb\")\n",
      "\n",
      "def timeStand(timestamp, fmt=\"%Y-%m-%d H:%H:%M\"):\n",
      "    return time.strftime(fmt, time.localtime(timestamp))[:-1] + \"0\"\n",
      "\n",
      "class MVol:\n",
      "    timestamp = None\n",
      "    def __init__(self, ):\n",
      "        self.marks = []\n",
      "        self.volumes = []\n",
      "        self.history = []\n",
      "        self.quotes = []\n",
      "\n",
      "    def add(self, mark, volume):\n",
      "        self.marks.append(mark)\n",
      "        self.volumes.append(volume)\n",
      "\n",
      "    def statsMarks(self):\n",
      "        return {\n",
      "            \"timestamp\": self.timestamp,\n",
      "            \"volume\": sum(self.volumes),\n",
      "            \"count\": len(self.marks),\n",
      "            \"std\": numpy.array(self.marks).std(),\n",
      "            \"mean\": numpy.array(self.marks).mean(),\n",
      "            \"open\": self.marks[0],\n",
      "            \"close\": self.marks[-1],\n",
      "            \"high\": max(self.marks),\n",
      "            \"low\": min(self.marks),\n",
      "        }\n",
      "    def statsOutput(self):\n",
      "        return \"{timestamp:15} {count:6} {volume:12.2f} {mean:10.2f} {std:10.4f}\".format(**self.statsMarks())\n",
      "\n",
      "    def reset(self, timestamp):\n",
      "        if self.timestamp:\n",
      "            stats = self.statsMarks()\n",
      "            self.history.append(stats)\n",
      "            self.quotes.append([735000+len(self.quotes), stats[\"open\"], stats[\"close\"], stats[\"high\"], stats[\"low\"]])\n",
      "        self.timestamp = timestamp\n",
      "        self.marks = []\n",
      "        self.volumes = []\n",
      "\n",
      "\n",
      "#default values\n",
      "ptime = None\n",
      "mvol = MVol()\n",
      "totVol = 0\n",
      "\n",
      "for i,data in enumerate(mtgox):\n",
      "    ctime, mark, volume = data[:-1].split(\",\")\n",
      "    ctime, mark, volume = (int(ctime), float(mark), float(volume))\n",
      "    ntime = timeStand(ctime)\n",
      "    \n",
      "    if not i:\n",
      "        mvol.reset(ntime)\n",
      "    elif ntime != mvol.timestamp:\n",
      "        #print mvol.statsOutput()\n",
      "        mvol.reset(ntime)\n",
      "    mvol.add(mark, volume)\n",
      "\n",
      "    if i == 5000:\n",
      "        break\n",
      "    \n",
      "#print mvol.statsOutput()"
     ],
     "language": "python",
     "metadata": {},
     "outputs": [
      {
       "ename": "IOError",
       "evalue": "[Errno 2] No such file or directory: 'btc/mtgoxUSD_last2m.csv'",
       "output_type": "pyerr",
       "traceback": [
        "\u001b[1;31m---------------------------------------------------------------------------\u001b[0m\n\u001b[1;31mIOError\u001b[0m                                   Traceback (most recent call last)",
        "\u001b[1;32m<ipython-input-2-fdaebd71978b>\u001b[0m in \u001b[0;36m<module>\u001b[1;34m()\u001b[0m\n\u001b[0;32m      5\u001b[0m \u001b[0mfilename\u001b[0m \u001b[1;33m=\u001b[0m \u001b[1;34m\"btc/mtgoxUSD_last2m.csv\"\u001b[0m\u001b[1;33m\u001b[0m\u001b[0m\n\u001b[0;32m      6\u001b[0m \u001b[1;31m#filename = \"btc/mtgoxUSD_last100k.csv\"\u001b[0m\u001b[1;33m\u001b[0m\u001b[1;33m\u001b[0m\u001b[0m\n\u001b[1;32m----> 7\u001b[1;33m \u001b[0mmtgox\u001b[0m \u001b[1;33m=\u001b[0m \u001b[0mopen\u001b[0m\u001b[1;33m(\u001b[0m\u001b[0mfilename\u001b[0m\u001b[1;33m,\u001b[0m \u001b[1;34m\"rb\"\u001b[0m\u001b[1;33m)\u001b[0m\u001b[1;33m\u001b[0m\u001b[0m\n\u001b[0m\u001b[0;32m      8\u001b[0m \u001b[1;33m\u001b[0m\u001b[0m\n\u001b[0;32m      9\u001b[0m \u001b[1;32mdef\u001b[0m \u001b[0mtimeStand\u001b[0m\u001b[1;33m(\u001b[0m\u001b[0mtimestamp\u001b[0m\u001b[1;33m,\u001b[0m \u001b[0mfmt\u001b[0m\u001b[1;33m=\u001b[0m\u001b[1;34m\"%Y-%m-%d H:%H:%M\"\u001b[0m\u001b[1;33m)\u001b[0m\u001b[1;33m:\u001b[0m\u001b[1;33m\u001b[0m\u001b[0m\n",
        "\u001b[1;31mIOError\u001b[0m: [Errno 2] No such file or directory: 'btc/mtgoxUSD_last2m.csv'"
       ]
      }
     ],
     "prompt_number": 2
    },
    {
     "cell_type": "markdown",
     "metadata": {},
     "source": [
      "Matplotlib Finance examples: \n",
      "\n",
      " * http://matplotlib.org/examples/pylab_examples/finance_demo.html\n",
      " * http://matplotlib.org/examples/pylab_examples/finance_work2.html\n"
     ]
    },
    {
     "cell_type": "code",
     "collapsed": false,
     "input": [
      "import matplotlib.pyplot as plt\n",
      "from matplotlib.finance import quotes_historical_yahoo, candlestick, plot_day_summary, candlestick2\n",
      "\n",
      "# (Year, month, day) tuples suffice as args for quotes_historical_yahoo\n",
      "date1 = ( 2013, 12, 10)\n",
      "date2 = ( 2013, 12, 15 )\n",
      "\n",
      "quotes_historical_yahoo('TSLA', date1, date2)\n",
      "# open, close, high, low"
     ],
     "language": "python",
     "metadata": {},
     "outputs": [
      {
       "metadata": {},
       "output_type": "pyout",
       "prompt_number": 5,
       "text": [
        "[(735212.0,\n",
        "  140.05000000000001,\n",
        "  142.19,\n",
        "  145.87,\n",
        "  139.86000000000001,\n",
        "  10725900.0),\n",
        " (735213.0,\n",
        "  141.88,\n",
        "  139.65000000000001,\n",
        "  143.05000000000001,\n",
        "  139.49000000000001,\n",
        "  7112200.0),\n",
        " (735214.0,\n",
        "  139.69999999999999,\n",
        "  147.47,\n",
        "  148.24000000000001,\n",
        "  138.53,\n",
        "  10742500.0),\n",
        " (735215.0,\n",
        "  148.05000000000001,\n",
        "  147.65000000000001,\n",
        "  151.80000000000001,\n",
        "  147.31999999999999,\n",
        "  10591900.0)]"
       ]
      }
     ],
     "prompt_number": 5
    },
    {
     "cell_type": "code",
     "collapsed": false,
     "input": [
      "fig, ax = plt.subplots(figsize=(20, 5))\n",
      "fig.subplots_adjust(bottom=0.1)\n",
      "candlestick(ax, mvol.quotes, width=0.6)\n",
      "\n",
      "ax.xaxis_date()\n",
      "ax.autoscale_view()\n",
      "plt.setp(plt.gca().get_xticklabels(), rotation=45, horizontalalignment='right')\n",
      "\n",
      "plt.show()"
     ],
     "language": "python",
     "metadata": {},
     "outputs": [
      {
       "metadata": {},
       "output_type": "display_data",
       "png": "[encoded data removed]",
       "text": [
        "<matplotlib.figure.Figure at 0x31c3f10>"
       ]
      }
     ],
     "prompt_number": 4
    },
    {
     "cell_type": "code",
     "collapsed": false,
     "input": [
      "import datetime\n",
      "datetime.datetime(2013,12,1)"
     ],
     "language": "python",
     "metadata": {},
     "outputs": [
      {
       "ename": "TypeError",
       "evalue": "unsupported operand type(s) for /: 'datetime.datetime' and 'int'",
       "output_type": "pyerr",
       "traceback": [
        "\u001b[1;31m---------------------------------------------------------------------------\u001b[0m\n\u001b[1;31mTypeError\u001b[0m                                 Traceback (most recent call last)",
        "\u001b[1;32m<ipython-input-128-ee1347207525>\u001b[0m in \u001b[0;36m<module>\u001b[1;34m()\u001b[0m\n\u001b[0;32m      1\u001b[0m \u001b[1;32mimport\u001b[0m \u001b[0mdatetime\u001b[0m\u001b[1;33m\u001b[0m\u001b[0m\n\u001b[1;32m----> 2\u001b[1;33m \u001b[0mdatetime\u001b[0m\u001b[1;33m.\u001b[0m\u001b[0mdatetime\u001b[0m\u001b[1;33m(\u001b[0m\u001b[1;36m2013\u001b[0m\u001b[1;33m,\u001b[0m\u001b[1;36m12\u001b[0m\u001b[1;33m,\u001b[0m\u001b[1;36m1\u001b[0m\u001b[1;33m)\u001b[0m\u001b[1;33m/\u001b[0m\u001b[1;36m1000\u001b[0m\u001b[1;33m\u001b[0m\u001b[0m\n\u001b[0m",
        "\u001b[1;31mTypeError\u001b[0m: unsupported operand type(s) for /: 'datetime.datetime' and 'int'"
       ]
      }
     ],
     "prompt_number": 128
    },
    {
     "cell_type": "code",
     "collapsed": false,
     "input": [
      "mvol.quotes"
     ],
     "language": "python",
     "metadata": {},
     "outputs": [
      {
       "metadata": {},
       "output_type": "pyout",
       "prompt_number": 116,
       "text": [
        "[[0, 114.0, 113.0, 115.8, 111.123],\n",
        " [1, 113.24999, 114.4, 114.49, 112.43],\n",
        " [2, 114.4, 114.87, 115.0, 113.77901],\n",
        " [3, 114.71, 115.805, 116.39, 114.55],\n",
        " [4, 115.805, 114.90713, 116.6, 114.90713],\n",
        " [5, 114.89999, 115.44999, 115.80001, 114.89999],\n",
        " [6, 115.44999, 114.09, 115.559, 113.51201],\n",
        " [7, 114.09, 112.715, 115.0, 112.42],\n",
        " [8, 112.42, 114.48, 114.5, 112.12],\n",
        " [9, 113.98, 114.12002, 114.85, 113.76006],\n",
        " [10, 114.12002, 114.01003, 114.84991, 113.80002],\n",
        " [11, 114.05, 114.0, 114.499, 112.645],\n",
        " [12, 113.84999, 113.85, 114.0, 113.21],\n",
        " [13, 113.85001, 113.49999, 114.48, 112.55],\n",
        " [14, 113.49989, 112.75, 113.49989, 112.65106],\n",
        " [15, 112.89998, 111.04, 113.38599, 111.0],\n",
        " [16, 111.04, 110.33099, 111.95305, 110.2],\n",
        " [17, 110.33099, 112.25, 112.25, 110.3],\n",
        " [18, 112.0, 111.5, 112.25, 110.31],\n",
        " [19, 111.501, 111.75001, 112.49999, 111.50001],\n",
        " [20, 111.98, 111.4, 112.489, 110.81],\n",
        " [21, 111.29998, 109.2, 111.50001, 109.2],\n",
        " [22, 109.49001, 105.5, 109.8, 104.552],\n",
        " [23, 105.5, 108.8, 108.8, 103.01847],\n",
        " [24, 108.8, 106.0, 109.88, 105.531]]"
       ]
      }
     ],
     "prompt_number": 116
    },
    {
     "cell_type": "heading",
     "level": 1,
     "metadata": {},
     "source": [
      "Pickling"
     ]
    },
    {
     "cell_type": "code",
     "collapsed": false,
     "input": [
      "import numpy"
     ],
     "language": "python",
     "metadata": {},
     "outputs": [],
     "prompt_number": 25
    },
    {
     "cell_type": "code",
     "collapsed": false,
     "input": [
      "alex = numpy.array(marks)\n",
      "alex.mean()"
     ],
     "language": "python",
     "metadata": {},
     "outputs": [
      {
       "metadata": {},
       "output_type": "pyout",
       "prompt_number": 27,
       "text": [
        "1151.27487406571"
       ]
      }
     ],
     "prompt_number": 27
    },
    {
     "cell_type": "code",
     "collapsed": false,
     "input": [
      "import pickle"
     ],
     "language": "python",
     "metadata": {},
     "outputs": [],
     "prompt_number": 4
    },
    {
     "cell_type": "code",
     "collapsed": false,
     "input": [
      "alex = [1,2,3,4]"
     ],
     "language": "python",
     "metadata": {},
     "outputs": [],
     "prompt_number": 14
    },
    {
     "cell_type": "code",
     "collapsed": false,
     "input": [
      "filedump = open(\"alex.pickle\", \"wb\")\n",
      "pickle.dump(alex, filedump)\n",
      "filedump.close()"
     ],
     "language": "python",
     "metadata": {},
     "outputs": [],
     "prompt_number": 15
    },
    {
     "cell_type": "code",
     "collapsed": false,
     "input": [
      "pickle.load(open(\"alex.pickle\", \"rb\"))"
     ],
     "language": "python",
     "metadata": {},
     "outputs": [
      {
       "metadata": {},
       "output_type": "pyout",
       "prompt_number": 8,
       "text": [
        "[1, 2, 3, 4]"
       ]
      }
     ],
     "prompt_number": 8
    },
    {
     "cell_type": "code",
     "collapsed": false,
     "input": [
      "import os\n",
      "\n",
      "if os.path.isfile(\"alex.pickle\"):\n",
      "    alex = pickle.load(open(\"alex.pickle\", \"rb\"))\n",
      "else:\n",
      "    alex = []\n",
      "\n",
      "alex"
     ],
     "language": "python",
     "metadata": {},
     "outputs": [
      {
       "metadata": {},
       "output_type": "pyout",
       "prompt_number": 16,
       "text": [
        "[1, 2, 3, 4]"
       ]
      }
     ],
     "prompt_number": 16
    },
    {
     "cell_type": "code",
     "collapsed": false,
     "input": [
      "alex"
     ],
     "language": "python",
     "metadata": {},
     "outputs": [
      {
       "metadata": {},
       "output_type": "pyout",
       "prompt_number": 12,
       "text": [
        "[1, 2, 3, 4]"
       ]
      }
     ],
     "prompt_number": 12
    },
    {
     "cell_type": "code",
     "collapsed": false,
     "input": [
      "import numpy\n",
      "g = numpy.array([1,2])"
     ],
     "language": "python",
     "metadata": {},
     "outputs": [],
     "prompt_number": 23
    },
    {
     "cell_type": "code",
     "collapsed": false,
     "input": [
      "g"
     ],
     "language": "python",
     "metadata": {},
     "outputs": [
      {
       "metadata": {},
       "output_type": "pyout",
       "prompt_number": 24,
       "text": [
        "array([1, 2])"
       ]
      }
     ],
     "prompt_number": 24
    },
    {
     "cell_type": "code",
     "collapsed": false,
     "input": [
      "numpy.append(g, g)"
     ],
     "language": "python",
     "metadata": {},
     "outputs": [
      {
       "metadata": {},
       "output_type": "pyout",
       "prompt_number": 26,
       "text": [
        "array([1, 2, 1, 2])"
       ]
      }
     ],
     "prompt_number": 26
    },
    {
     "cell_type": "code",
     "collapsed": false,
     "input": [
      "xy = np.array([])"
     ],
     "language": "python",
     "metadata": {},
     "outputs": [],
     "prompt_number": 53
    },
    {
     "cell_type": "code",
     "collapsed": false,
     "input": [
      "x = np.array([[1,2]])"
     ],
     "language": "python",
     "metadata": {},
     "outputs": [],
     "prompt_number": 45
    },
    {
     "cell_type": "code",
     "collapsed": false,
     "input": [
      "xy"
     ],
     "language": "python",
     "metadata": {},
     "outputs": [
      {
       "metadata": {},
       "output_type": "pyout",
       "prompt_number": 54,
       "text": [
        "array([], dtype=float64)"
       ]
      }
     ],
     "prompt_number": 54
    },
    {
     "cell_type": "code",
     "collapsed": false,
     "input": [
      "x"
     ],
     "language": "python",
     "metadata": {},
     "outputs": [
      {
       "metadata": {},
       "output_type": "pyout",
       "prompt_number": 37,
       "text": [
        "array([[1, 2, 3],\n",
        "       [4, 5, 6]], dtype=int32)"
       ]
      }
     ],
     "prompt_number": 37
    },
    {
     "cell_type": "code",
     "collapsed": false,
     "input": [
      "x.shape()"
     ],
     "language": "python",
     "metadata": {},
     "outputs": [
      {
       "ename": "TypeError",
       "evalue": "'tuple' object is not callable",
       "output_type": "pyerr",
       "traceback": [
        "\u001b[1;31m---------------------------------------------------------------------------\u001b[0m\n\u001b[1;31mTypeError\u001b[0m                                 Traceback (most recent call last)",
        "\u001b[1;32m<ipython-input-38-15bbc2c5eb7d>\u001b[0m in \u001b[0;36m<module>\u001b[1;34m()\u001b[0m\n\u001b[1;32m----> 1\u001b[1;33m \u001b[0mx\u001b[0m\u001b[1;33m.\u001b[0m\u001b[0mshape\u001b[0m\u001b[1;33m(\u001b[0m\u001b[1;33m)\u001b[0m\u001b[1;33m\u001b[0m\u001b[0m\n\u001b[0m",
        "\u001b[1;31mTypeError\u001b[0m: 'tuple' object is not callable"
       ]
      }
     ],
     "prompt_number": 38
    },
    {
     "cell_type": "code",
     "collapsed": false,
     "input": [
      "import pandas\n",
      "pandas.__version__"
     ],
     "language": "python",
     "metadata": {},
     "outputs": [
      {
       "metadata": {},
       "output_type": "pyout",
       "prompt_number": 1,
       "text": [
        "'0.7.0'"
       ]
      }
     ],
     "prompt_number": 1
    },
    {
     "cell_type": "code",
     "collapsed": false,
     "input": [
      "pandas.__version__"
     ],
     "language": "python",
     "metadata": {},
     "outputs": [
      {
       "metadata": {},
       "output_type": "pyout",
       "prompt_number": 8,
       "text": [
        "'0.7.0'"
       ]
      }
     ],
     "prompt_number": 8
    },
    {
     "cell_type": "code",
     "collapsed": false,
     "input": [
      "import scipy\n",
      "scipy.__version__"
     ],
     "language": "python",
     "metadata": {},
     "outputs": [
      {
       "metadata": {},
       "output_type": "pyout",
       "prompt_number": 10,
       "text": [
        "'0.9.0'"
       ]
      }
     ],
     "prompt_number": 10
    },
    {
     "cell_type": "code",
     "collapsed": false,
     "input": [
      "import numpy\n",
      "numpy.__version__"
     ],
     "language": "python",
     "metadata": {},
     "outputs": [
      {
       "metadata": {},
       "output_type": "pyout",
       "prompt_number": 11,
       "text": [
        "'1.6.1'"
       ]
      }
     ],
     "prompt_number": 11
    },
    {
     "cell_type": "code",
     "collapsed": false,
     "input": [
      "filename = \"btc/mtgoxUSD.csv\"\n",
      "mtgox = open(filename, \"rb\")"
     ],
     "language": "python",
     "metadata": {},
     "outputs": [
      {
       "ename": "IOError",
       "evalue": "[Errno 2] No such file or directory: 'btc/mtgoxUSD.csv'",
       "output_type": "pyerr",
       "traceback": [
        "\u001b[1;31m---------------------------------------------------------------------------\u001b[0m\n\u001b[1;31mIOError\u001b[0m                                   Traceback (most recent call last)",
        "\u001b[1;32m<ipython-input-6-d0a2dca5d7a3>\u001b[0m in \u001b[0;36m<module>\u001b[1;34m()\u001b[0m\n\u001b[0;32m      1\u001b[0m \u001b[0mfilename\u001b[0m \u001b[1;33m=\u001b[0m \u001b[1;34m\"btc/mtgoxUSD.csv\"\u001b[0m\u001b[1;33m\u001b[0m\u001b[0m\n\u001b[1;32m----> 2\u001b[1;33m \u001b[0mmtgox\u001b[0m \u001b[1;33m=\u001b[0m \u001b[0mopen\u001b[0m\u001b[1;33m(\u001b[0m\u001b[0mfilename\u001b[0m\u001b[1;33m,\u001b[0m \u001b[1;34m\"rb\"\u001b[0m\u001b[1;33m)\u001b[0m\u001b[1;33m\u001b[0m\u001b[0m\n\u001b[0m",
        "\u001b[1;31mIOError\u001b[0m: [Errno 2] No such file or directory: 'btc/mtgoxUSD.csv'"
       ]
      }
     ],
     "prompt_number": 6
    },
    {
     "cell_type": "code",
     "collapsed": false,
     "input": [],
     "language": "python",
     "metadata": {},
     "outputs": [],
     "prompt_number": 3
    },
    {
     "cell_type": "code",
     "collapsed": false,
     "input": [],
     "language": "python",
     "metadata": {},
     "outputs": []
    }
   ],
   "metadata": {}
  }
 ]
}