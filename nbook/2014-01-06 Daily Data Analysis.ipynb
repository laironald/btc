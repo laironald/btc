{
 "metadata": {
  "name": ""
 },
 "nbformat": 3,
 "nbformat_minor": 0,
 "worksheets": [
  {
   "cells": [
    {
     "cell_type": "code",
     "collapsed": false,
     "input": [
      "import time\n",
      "import numpy as np\n",
      "import pandas as pd\n",
      "output=zeros([2000,9])\n",
      "\n",
      "filename = \"/home/ubuntu/mtgoxUSD.csv\"\n",
      "mtgox = open(filename, \"rb\")\n",
      "blank_array = zeros([100000,2])\n",
      "rows = blank_array\n",
      "\n",
      "def timeStand(timestamp, fmt=\"%Y%m%d\"):\n",
      "    #Returns date in format 2013/12/23 in order to groupby days\n",
      "    return time.strftime(fmt, time.localtime(timestamp))\n",
      "\n",
      "#default values\n",
      "ptime = None\n",
      "j =0\n",
      "\n",
      "for i,data in enumerate(mtgox):\n",
      "  \n",
      "    ctime, mark, volume = data[:-1].split(\",\")\n",
      "    ctime, mark, volume = (int(ctime), float(mark), float(volume))\n",
      "    ntime = timeStand(ctime)    \n",
      "\n",
      "    if ntime != ptime:\n",
      "        if ptime:\n",
      "            #Store arregate daily statistics in output\n",
      "            #Time(0), Observations(1), Open(2), High(3), Low(4), Close(5), Volume(6), VWAP(7), STD(8) \n",
      "            \n",
      "            output[j,:] = array([ptime, ctr, rows[0,0], rows[0:ctr,0].max(), rows[0:ctr,0].min(),\n",
      "                                 rows[ctr-1,0], rows[0:ctr,1].sum(),\n",
      "                                 np.average(rows[0:ctr:,0], weights=rows[0:ctr:,1]),\n",
      "                                 rows[0:ctr,:1].std()])           \n",
      "            \n",
      "            j = j + 1\n",
      "        # resetting values\n",
      "        ptime = ntime\n",
      "        ctr = 0\n",
      "  \n",
      "    #Store new data point in rows and increment ctr    \n",
      "    rows[ctr,:] = [mark, volume]\n",
      "    ctr = ctr + 1\n",
      "\n",
      "\n",
      "#print ptime, len(rows), totVol\n",
      "close(filename)\n",
      "j"
     ],
     "language": "python",
     "metadata": {},
     "outputs": [
      {
       "metadata": {},
       "output_type": "pyout",
       "prompt_number": 13,
       "text": [
        "1266"
       ]
      }
     ],
     "prompt_number": 13
    },
    {
     "cell_type": "code",
     "collapsed": false,
     "input": [
      "#Save daily file for later viewing\n",
      "output = output[0:j-1,:]\n",
      "out = open(\"ohlc.csv\", \"wb\")\n",
      "numpy.savetxt(out, output, fmt=\"%.4f\", delimiter=\",\")\n",
      "out.close()"
     ],
     "language": "python",
     "metadata": {},
     "outputs": [],
     "prompt_number": 14
    },
    {
     "cell_type": "code",
     "collapsed": false,
     "input": [
      "#Load daily file into a single data frame that we can use for analysis\n",
      "import numpy as np\n",
      "import pandas as pd\n",
      "from pandas import Series\n",
      "\n",
      "data = pd.read_csv(\"ohlc.csv\", \n",
      "                   names=[\"date\", \"observations\", \"open\", \"high\", \"low\", \"close\", \"volume\", \"vwap\", \"vol\"],\n",
      "                  )\n",
      "#Return previous close to current close\n",
      "data[\"daily_returns\"] = data[\"close\"] / data[\"close\"].shift(1) - 1\n",
      "#Shift returns back (want future returns when we do analysis)\n",
      "data[\"future_returns\"] = data[\"daily_returns\"].shift(-1)\n",
      "data.describe"
     ],
     "language": "python",
     "metadata": {},
     "outputs": [
      {
       "metadata": {},
       "output_type": "pyout",
       "prompt_number": 97,
       "text": [
        "<bound method DataFrame.describe of <class 'pandas.core.frame.DataFrame'>\n",
        "Int64Index: 1265 entries, 0 to 1264\n",
        "Data columns (total 11 columns):\n",
        "date              1265  non-null values\n",
        "observations      1265  non-null values\n",
        "open              1265  non-null values\n",
        "high              1265  non-null values\n",
        "low               1265  non-null values\n",
        "close             1265  non-null values\n",
        "volume            1265  non-null values\n",
        "vwap              1265  non-null values\n",
        "vol               1265  non-null values\n",
        "daily_returns     1264  non-null values\n",
        "future_returns    1264  non-null values\n",
        "dtypes: float64(11)>"
       ]
      }
     ],
     "prompt_number": 97
    },
    {
     "cell_type": "code",
     "collapsed": false,
     "input": [
      "#What happens if you only own bitcoin when it closes within 10 pct of all-time high?\n",
      "\n",
      "\n",
      "def percent_up(some_data):\n",
      "    return float(some_data[some_data > 0].count()) / some_data.count() \n",
      "\n",
      "def total_return(arr):\n",
      "    #Chain together daily returns\n",
      "    return (1 + arr).prod() - 1\n",
      "    \n",
      "functions = [\"count\", \"mean\", \"std\", percent_up, total_return]\n",
      "\n",
      "groupings = data.groupby(data[\"close\"] > .9 * data[\"close\"].cummax() )\n",
      "hi_10 = groupings[\"future_returns\"].agg(functions)\n",
      "hi_10\n",
      "\n"
     ],
     "language": "python",
     "metadata": {},
     "outputs": [
      {
       "html": [
        "<div style=\"max-height:1000px;max-width:1500px;overflow:auto;\">\n",
        "<table border=\"1\" class=\"dataframe\">\n",
        "  <thead>\n",
        "    <tr style=\"text-align: right;\">\n",
        "      <th></th>\n",
        "      <th>count</th>\n",
        "      <th>mean</th>\n",
        "      <th>std</th>\n",
        "      <th>percent_up</th>\n",
        "      <th>total_return</th>\n",
        "    </tr>\n",
        "  </thead>\n",
        "  <tbody>\n",
        "    <tr>\n",
        "      <th>False</th>\n",
        "      <td> 1061</td>\n",
        "      <td> 0.003926</td>\n",
        "      <td> 0.064103</td>\n",
        "      <td> 0.524034</td>\n",
        "      <td>    5.926195</td>\n",
        "    </tr>\n",
        "    <tr>\n",
        "      <th>True </th>\n",
        "      <td>  203</td>\n",
        "      <td> 0.046036</td>\n",
        "      <td> 0.122470</td>\n",
        "      <td> 0.645320</td>\n",
        "      <td> 2565.745183</td>\n",
        "    </tr>\n",
        "  </tbody>\n",
        "</table>\n",
        "</div>"
       ],
       "metadata": {},
       "output_type": "pyout",
       "prompt_number": 98,
       "text": [
        "       count      mean       std  percent_up  total_return\n",
        "False   1061  0.003926  0.064103    0.524034      5.926195\n",
        "True     203  0.046036  0.122470    0.645320   2565.745183"
       ]
      }
     ],
     "prompt_number": 98
    },
    {
     "cell_type": "code",
     "collapsed": false,
     "input": [
      "#What happens if you only hold bitcoin when the price is above its 50 day moving average\n",
      "\n",
      "groupings= data[\"future_returns\"].groupby(data[\"close\"] > pd.rolling_mean(data[\"close\"], 50))\n",
      "mvg_50 = groupings.agg(functions)\n",
      "mvg_50"
     ],
     "language": "python",
     "metadata": {},
     "outputs": [
      {
       "html": [
        "<div style=\"max-height:1000px;max-width:1500px;overflow:auto;\">\n",
        "<table border=\"1\" class=\"dataframe\">\n",
        "  <thead>\n",
        "    <tr style=\"text-align: right;\">\n",
        "      <th></th>\n",
        "      <th>count</th>\n",
        "      <th>mean</th>\n",
        "      <th>std</th>\n",
        "      <th>percent_up</th>\n",
        "      <th>total_return</th>\n",
        "    </tr>\n",
        "  </thead>\n",
        "  <tbody>\n",
        "    <tr>\n",
        "      <th>False</th>\n",
        "      <td> 435</td>\n",
        "      <td> 0.005148</td>\n",
        "      <td> 0.078380</td>\n",
        "      <td> 0.494253</td>\n",
        "      <td>    1.650684</td>\n",
        "    </tr>\n",
        "    <tr>\n",
        "      <th>True </th>\n",
        "      <td> 829</td>\n",
        "      <td> 0.013597</td>\n",
        "      <td> 0.077717</td>\n",
        "      <td> 0.569361</td>\n",
        "      <td> 6705.863335</td>\n",
        "    </tr>\n",
        "  </tbody>\n",
        "</table>\n",
        "</div>"
       ],
       "metadata": {},
       "output_type": "pyout",
       "prompt_number": 99,
       "text": [
        "       count      mean       std  percent_up  total_return\n",
        "False    435  0.005148  0.078380    0.494253      1.650684\n",
        "True     829  0.013597  0.077717    0.569361   6705.863335"
       ]
      }
     ],
     "prompt_number": 99
    },
    {
     "cell_type": "code",
     "collapsed": false,
     "input": [
      "#Let's see how sensitive those results are to a moving average parameter\n",
      "parameters = range(10, 90, 10)\n",
      "results = []\n",
      "for x in parameters:\n",
      "    results.append(data[\"future_returns\"].groupby(data[\"close\"] > pd.rolling_mean(data[\"close\"], x)).agg(functions))\n",
      "results\n"
     ],
     "language": "python",
     "metadata": {},
     "outputs": [
      {
       "metadata": {},
       "output_type": "pyout",
       "prompt_number": 100,
       "text": [
        "[       count      mean       std  percent_up  total_return\n",
        "False    462  0.003157  0.086216    0.506494     -0.187236\n",
        "True     802  0.015028  0.072581    0.564838  21872.229465,\n",
        "        count      mean       std  percent_up  total_return\n",
        "False    477  0.004118  0.082096    0.498952      0.522895\n",
        "True     787  0.014672  0.075213    0.570521  11672.672325,\n",
        "        count      mean       std  percent_up  total_return\n",
        "False    482  0.003256  0.077756    0.497925      0.202454\n",
        "True     782  0.015271  0.077876    0.571611  14783.584248,\n",
        "        count      mean       std  percent_up  total_return\n",
        "False    472  0.003196  0.078179    0.480932      0.140856\n",
        "True     792  0.015155  0.077628    0.580808  15581.839184,\n",
        "        count      mean       std  percent_up  total_return\n",
        "False    435  0.005148  0.078380    0.494253      1.650684\n",
        "True     829  0.013597  0.077717    0.569361   6705.863335,\n",
        "        count      mean       std  percent_up  total_return\n",
        "False    386  0.003838  0.080683    0.494819      0.342698\n",
        "True     878  0.013701  0.076671    0.564920  13239.343675,\n",
        "        count      mean       std  percent_up  total_return\n",
        "False    381  0.002254  0.078764    0.482940     -0.232304\n",
        "True     883  0.014329  0.077456    0.569649  23156.315956,\n",
        "        count      mean       std  percent_up  total_return\n",
        "False    377  0.001805  0.076616    0.493369     -0.314631\n",
        "True     887  0.014465  0.078345    0.564825  25937.969150]"
       ]
      }
     ],
     "prompt_number": 100
    },
    {
     "cell_type": "code",
     "collapsed": false,
     "input": [
      "x = Series([1,2,3,4,5])\n",
      "x.shift(1)"
     ],
     "language": "python",
     "metadata": {},
     "outputs": [
      {
       "metadata": {},
       "output_type": "pyout",
       "prompt_number": 94,
       "text": [
        "0   NaN\n",
        "1     1\n",
        "2     2\n",
        "3     3\n",
        "4     4\n",
        "dtype: float64"
       ]
      }
     ],
     "prompt_number": 94
    },
    {
     "cell_type": "code",
     "collapsed": false,
     "input": [],
     "language": "python",
     "metadata": {},
     "outputs": []
    }
   ],
   "metadata": {}
  }
 ]
}