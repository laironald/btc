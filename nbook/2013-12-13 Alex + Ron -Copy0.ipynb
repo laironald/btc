{
 "metadata": {
  "name": ""
 },
 "nbformat": 3,
 "nbformat_minor": 0,
 "worksheets": [
  {
   "cells": [
    {
     "cell_type": "code",
     "collapsed": false,
     "input": [
      "import time\n",
      "import numpy as np\n",
      "import pandas as pd\n",
      "output=zeros([2000,9])\n",
      "\n",
      "filename = \"btc/mtgoxUSD.csv\"\n",
      "mtgox = open(filename, \"rb\")\n",
      "blank_array = zeros([100000,2])\n",
      "rows = blank_array\n",
      "\n",
      "def timeStand(timestamp, fmt=\"%Y%m%d\"):\n",
      "    #Returns date in format 2013/12/23 in order to groupby days\n",
      "    return time.strftime(fmt, time.localtime(timestamp))\n",
      "\n",
      "#default values\n",
      "ptime = None\n",
      "j =0\n",
      "\n",
      "for i,data in enumerate(mtgox):\n",
      "  \n",
      "    ctime, mark, volume = data[:-1].split(\",\")\n",
      "    ctime, mark, volume = (int(ctime), float(mark), float(volume))\n",
      "    ntime = timeStand(ctime)    \n",
      "\n",
      "    if ntime != ptime:\n",
      "        if ptime:\n",
      "            #Store arregate daily statistics in output\n",
      "            #Time(0), Observations(1), Open(2), High(3), Low(4), Close(5), Volume(6), VWAP(7), STD(8) \n",
      "            \n",
      "            output[j,:] = array([ptime, ctr, rows[0,0], rows[0:ctr,0].max(), rows[0:ctr,0].min(),\n",
      "                                 rows[ctr-1,0], rows[0:ctr,1].sum(),\n",
      "                                 np.average(rows[0:ctr:,0], weights=rows[0:ctr:,1]),\n",
      "                                 rows[0:ctr,:1].std()])           \n",
      "            \n",
      "            j = j + 1\n",
      "        # resetting values\n",
      "        ptime = ntime\n",
      "        ctr = 0\n",
      "  \n",
      "    #Store new data point in rows and increment ctr    \n",
      "    rows[ctr,:] = [mark, volume]\n",
      "    ctr = ctr + 1\n",
      "\n",
      "\n",
      "#print ptime, len(rows), totVol\n",
      "close(filename)\n",
      "j"
     ],
     "language": "python",
     "metadata": {},
     "outputs": [
      {
       "metadata": {},
       "output_type": "pyout",
       "prompt_number": 2,
       "text": [
        "1229"
       ]
      }
     ],
     "prompt_number": 2
    },
    {
     "cell_type": "code",
     "collapsed": false,
     "input": [
      "#Save daily file for later viewing\n",
      "output = output[0:j-1,:]\n",
      "out = open(\"ohlc.csv\", \"wb\")\n",
      "numpy.savetxt(out, output, fmt=\"%.4f\", delimiter=\",\")\n",
      "out.close()"
     ],
     "language": "python",
     "metadata": {},
     "outputs": [],
     "prompt_number": 3
    },
    {
     "cell_type": "code",
     "collapsed": false,
     "input": [
      "import numpy as np\n",
      "import pandas as pd\n",
      "from pandas import Series\n",
      "\n",
      "data = pd.read_csv(\"ohlc.csv\", \n",
      "                   names=[\"date\", \"observations\", \"open\", \"high\", \"low\", \"close\", \"volume\", \"vwap\", \"vol\"],\n",
      "                  )\n",
      "\n",
      "data[\"daily_returns\"] = data[\"close\"] / data[\"close\"].shift(1) - 1\n",
      "\n"
     ],
     "language": "python",
     "metadata": {},
     "outputs": [
      {
       "metadata": {},
       "output_type": "pyout",
       "prompt_number": 26,
       "text": [
        "<class 'pandas.core.frame.DataFrame'>\n",
        "Int64Index: 1228 entries, 0 to 1227\n",
        "Data columns:\n",
        "date             1228  non-null values\n",
        "observations     1228  non-null values\n",
        "open             1228  non-null values\n",
        "high             1228  non-null values\n",
        "low              1228  non-null values\n",
        "close            1228  non-null values\n",
        "volume           1228  non-null values\n",
        "vwap             1228  non-null values\n",
        "vol              1228  non-null values\n",
        "daily_returns    1227  non-null values\n",
        "dtypes: float64(10)"
       ]
      }
     ],
     "prompt_number": 26
    },
    {
     "cell_type": "code",
     "collapsed": false,
     "input": [
      "#what happens if you only own bitcoin when it closes within 10 pct of all-time high\n",
      "groupings = data[\"daily_returns\"].groupby(data[\"daily_returns\"] > .9 * data[\"daily_returns\"].cummax() )\n",
      "pd.DataFrame([groupings.mean(), groupings.std(), groupings.count])\n",
      "    \n",
      "\n",
      "#Simple example: What happens if you only hold bitcoin when the price is above its 50 day moving average\n",
      "#groupings= data[\"daily_returns\"].group_by(data[\"close\"] > pd.rolling_mean(data[\"close\"], 50)))\n",
      "#groupings.mean()\n",
      "#groupings.std()\n",
      "                                          \n",
      "    \n",
      "    "
     ],
     "language": "python",
     "metadata": {},
     "outputs": [
      {
       "metadata": {},
       "output_type": "pyout",
       "prompt_number": 31,
       "text": [
        "                                                                   0\n",
        "0  daily_returns\n",
        "False            0.010384\n",
        "True             0.733333\n",
        "1    daily_returns\n",
        "False            0.07458\n",
        "True                 NaN\n",
        "2                                    <function wrapper at 0x2fa6b90>"
       ]
      }
     ],
     "prompt_number": 31
    },
    {
     "cell_type": "code",
     "collapsed": false,
     "input": [],
     "language": "python",
     "metadata": {},
     "outputs": [],
     "prompt_number": 14
    },
    {
     "cell_type": "code",
     "collapsed": false,
     "input": [],
     "language": "python",
     "metadata": {},
     "outputs": [],
     "prompt_number": 15
    }
   ],
   "metadata": {}
  }
 ]
}